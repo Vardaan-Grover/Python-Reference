{
 "metadata": {
  "language_info": {
   "codemirror_mode": {
    "name": "ipython",
    "version": 3
   },
   "file_extension": ".py",
   "mimetype": "text/x-python",
   "name": "python",
   "nbconvert_exporter": "python",
   "pygments_lexer": "ipython3",
   "version": 3
  },
  "orig_nbformat": 2,
  "kernelspec": {
   "name": "python_defaultSpec_1596095645161",
   "display_name": "Python 3.8.3 32-bit"
  }
 },
 "nbformat": 4,
 "nbformat_minor": 2,
 "cells": [
  {
   "cell_type": "code",
   "execution_count": 1,
   "metadata": {
    "tags": []
   },
   "outputs": [
    {
     "output_type": "stream",
     "name": "stdout",
     "text": "[list([1, 2, 3, 4, 5, 6, 7, 8]) list([9, 10, 11, 12, 13, 14])]\n"
    }
   ],
   "source": [
    "import numpy as np\n",
    "import numpy as np\n",
    "a = np.array([[1, 2, 3, 4, 5, 6, 7, 8], [9, 10, 11, 12, 13, 14]])\n",
    "print(a)"
   ]
  },
  {
   "cell_type": "code",
   "execution_count": 2,
   "metadata": {
    "tags": []
   },
   "outputs": [
    {
     "output_type": "stream",
     "name": "stdout",
     "text": "[ 9 10 11 12]\n \n[[  10   15   29   31]\n [ 981  100 1983  932]]\n"
    }
   ],
   "source": [
    "# Making arrays using NumPy Library\n",
    "a = np.array([9, 10, 11, 12], dtype = 'int32')\n",
    "b = np.array([[10, 15, 29, 31],[981, 100, 1983, 932]], dtype = 'int16')\n",
    "print(f'{a}\\n \\n{b}')"
   ]
  },
  {
   "cell_type": "code",
   "execution_count": 3,
   "metadata": {
    "tags": []
   },
   "outputs": [
    {
     "output_type": "stream",
     "name": "stdout",
     "text": "int32\nint16\n"
    }
   ],
   "source": [
    "# Getting the types of the arrays using NumPy. We cam use the dtype parameter to specify what kind of array data do we need. Refer from above\n",
    "print(a.dtype)\n",
    "print(b.dtype)"
   ]
  },
  {
   "cell_type": "code",
   "execution_count": 4,
   "metadata": {
    "tags": []
   },
   "outputs": [
    {
     "output_type": "stream",
     "name": "stdout",
     "text": "4\n2\n\n4\n8\n\n16\n16\n"
    }
   ],
   "source": [
    "# GETTING THE SIZE OF AN ARRAY\n",
    "\n",
    "# Getting the size of each item \n",
    "print(a.itemsize)\n",
    "print(b.itemsize)\n",
    "print()\n",
    "\n",
    "# Getting the length or the number of elements present in the array\n",
    "print(a.size)\n",
    "print(b.size)\n",
    "print()\n",
    "\n",
    "# Getting the total size of an array\n",
    "print(a.nbytes)\n",
    "print(b.nbytes)\n"
   ]
  },
  {
   "cell_type": "code",
   "execution_count": 5,
   "metadata": {
    "tags": []
   },
   "outputs": [
    {
     "output_type": "stream",
     "name": "stdout",
     "text": "1 \n \n 2\n"
    }
   ],
   "source": [
    "# Getting the dimension of the arrays as the arrays in NumPy are multidimensional\n",
    "print(f'{a.ndim} \\n \\n {b.ndim}')"
   ]
  },
  {
   "cell_type": "code",
   "execution_count": 6,
   "metadata": {
    "tags": []
   },
   "outputs": [
    {
     "output_type": "stream",
     "name": "stdout",
     "text": "(4,)\n(2, 4)\n"
    }
   ],
   "source": [
    "# Getting the shape of the arrays which means the rows and columns of the arrays using NumPy. You can use this method to change the structure of an array.\n",
    "print(a.shape)\n",
    "print(b.shape)"
   ]
  }
 ]
}